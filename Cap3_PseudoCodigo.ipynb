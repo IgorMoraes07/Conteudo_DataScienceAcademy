{
 "cells": [
  {
   "cell_type": "code",
   "execution_count": 1,
   "id": "d73cc63a",
   "metadata": {},
   "outputs": [
    {
     "name": "stdout",
     "output_type": "stream",
     "text": [
      "Versão da Lingaugem Python usada neste Jupyter Notebook: 3.9.13\n"
     ]
    }
   ],
   "source": [
    "# Versão da Linguagem Python\n",
    "from platform import python_version\n",
    "print('Versão da Lingaugem Python usada neste Jupyter Notebook:', python_version())"
   ]
  },
  {
   "cell_type": "markdown",
   "id": "eb22a654",
   "metadata": {},
   "source": [
    "# Cálculo de Base de Paralelogramo"
   ]
  },
  {
   "cell_type": "markdown",
   "id": "7731792d",
   "metadata": {},
   "source": [
    "Inicie\n",
    "\n",
    "    Exiba \"Bem-vindo ao Calculador\"\n",
    "    \n",
    "    Peça para inserção do comprimento da base\n",
    "    \n",
    "    Armazene o valor da base em uma variável\n",
    "    \n",
    "    Peça para inserção da altura\n",
    "    \n",
    "    Armazene o valor da altura em uma variável\n",
    "    \n",
    "    Calcule a área do Paralelogramo: base * altura\n",
    "    \n",
    "    Armazene o resultado do cálculo em uma variável\n",
    "    \n",
    "    Exiba o resultado\n",
    "    \n",
    "Fim"
   ]
  },
  {
   "cell_type": "code",
   "execution_count": 2,
   "id": "6c5f7308",
   "metadata": {},
   "outputs": [
    {
     "name": "stdout",
     "output_type": "stream",
     "text": [
      "Bem-vindo ao Calculador de Área de Paralelogramo\n"
     ]
    }
   ],
   "source": [
    "print('Bem-vindo ao Calculador de Área de Paralelogramo')"
   ]
  },
  {
   "cell_type": "code",
   "execution_count": 4,
   "id": "f6c9df9f",
   "metadata": {},
   "outputs": [
    {
     "name": "stdout",
     "output_type": "stream",
     "text": [
      "Insira o valor da Base: 88.24\n"
     ]
    }
   ],
   "source": [
    "base = float(input('Insira o valor da Base: '))"
   ]
  },
  {
   "cell_type": "code",
   "execution_count": 5,
   "id": "5b1cd1a5",
   "metadata": {},
   "outputs": [
    {
     "name": "stdout",
     "output_type": "stream",
     "text": [
      "Insira o valor da Altura: 39.55\n"
     ]
    }
   ],
   "source": [
    "altura = float(input('Insira o valor da Altura: '))"
   ]
  },
  {
   "cell_type": "code",
   "execution_count": 8,
   "id": "7d6dc6cd",
   "metadata": {},
   "outputs": [
    {
     "name": "stdout",
     "output_type": "stream",
     "text": [
      "O resultado do Cálculo da Base do Paralelogramo é:  3489.8919999999994\n"
     ]
    }
   ],
   "source": [
    "resultado = base * altura\n",
    "print('O resultado do Cálculo da Base do Paralelogramo é: ', resultado)"
   ]
  },
  {
   "cell_type": "code",
   "execution_count": null,
   "id": "d7032d7c",
   "metadata": {},
   "outputs": [],
   "source": []
  },
  {
   "cell_type": "markdown",
   "id": "380bdaba",
   "metadata": {},
   "source": [
    "# Calculadora Simples"
   ]
  },
  {
   "cell_type": "markdown",
   "id": "bfb2673a",
   "metadata": {},
   "source": [
    "Inicie\n",
    "\n",
    "    Exiba \"Bem-vindo a Calculadora Simples\"\n",
    "    \n",
    "    Peça para inserção do Valor 1\n",
    "    \n",
    "    Armazene o Valor 1 em uma variável\n",
    "    \n",
    "    Peça para inserção do Valor 2\n",
    "    \n",
    "    Armazene o Valor 2 em uma variável\n",
    "    \n",
    "    Insira a operação desejada (Entre +, -, * ou / )\n",
    "    \n",
    "    Efetue o cálculo: [Valor 1][Operação][Valor 2]\n",
    "    \n",
    "    Armazene o resultado do cálculo em uma variável\n",
    "    \n",
    "    Exiba o resultado\n",
    "    \n",
    "Fim"
   ]
  },
  {
   "cell_type": "code",
   "execution_count": 26,
   "id": "ede9f5f3",
   "metadata": {},
   "outputs": [
    {
     "name": "stdout",
     "output_type": "stream",
     "text": [
      "Bem-vindo a Caluladora Simples\n"
     ]
    }
   ],
   "source": [
    "print('Bem-vindo a Caluladora Simples')"
   ]
  },
  {
   "cell_type": "code",
   "execution_count": 27,
   "id": "d047764f",
   "metadata": {},
   "outputs": [
    {
     "name": "stdout",
     "output_type": "stream",
     "text": [
      "Insira o Valor 1: 85\n"
     ]
    }
   ],
   "source": [
    "valor1 = float(input('Insira o Valor 1: '))"
   ]
  },
  {
   "cell_type": "code",
   "execution_count": 28,
   "id": "8a20cda6",
   "metadata": {},
   "outputs": [
    {
     "name": "stdout",
     "output_type": "stream",
     "text": [
      "Insira o Valor 2: 22\n"
     ]
    }
   ],
   "source": [
    "valor2 = float(input('Insira o Valor 2: '))"
   ]
  },
  {
   "cell_type": "code",
   "execution_count": 29,
   "id": "9b021e03",
   "metadata": {},
   "outputs": [
    {
     "name": "stdout",
     "output_type": "stream",
     "text": [
      "Insira a operação desejada [Entre: +, -, * /] /\n"
     ]
    }
   ],
   "source": [
    "operacao = input('Insira a operação desejada [Entre: +, -, *, /] ')"
   ]
  },
  {
   "cell_type": "code",
   "execution_count": 31,
   "id": "fc4cdce9",
   "metadata": {},
   "outputs": [
    {
     "name": "stdout",
     "output_type": "stream",
     "text": [
      "O resultado do Cálculo é:  3.8636363636363638\n"
     ]
    }
   ],
   "source": [
    "if operacao == \"+\":\n",
    "    calculo = valor1 + valor2\n",
    "    print('O resultado do Cálculo é: ', calculo)\n",
    "    \n",
    "elif operacao == \"-\":\n",
    "    calculo = valor1 - valor2\n",
    "    print('O resultado do Cálculo é: ', calculo)\n",
    "\n",
    "elif operacao == \"*\":\n",
    "    calculo = valor1 * valor2\n",
    "    print('O resultado do Cálculo é: ', calculo)\n",
    "\n",
    "elif operacao == \"/\":\n",
    "    calculo = valor1 / valor2\n",
    "    print('O resultado do Cálculo é: ', calculo)\n",
    "else:\n",
    "    print('Operação Inválida!')"
   ]
  },
  {
   "cell_type": "markdown",
   "id": "e736b07a",
   "metadata": {},
   "source": [
    "# Algoritmo Bubble Sort"
   ]
  },
  {
   "cell_type": "markdown",
   "id": "9b8965e8",
   "metadata": {},
   "source": [
    "Inicie\n",
    "\n",
    "    Para cada elemnto i num array de tamanho n\n",
    "    \n",
    "        Para cada elemnto j num array de tamanho n - 1\n",
    "        \n",
    "            Se elemento i for maior que elemnto j\n",
    "            \n",
    "                Troque os elementos i e j\n",
    "                \n",
    "    Exiba o array ordenado\n",
    "    \n",
    "Fim"
   ]
  },
  {
   "cell_type": "code",
   "execution_count": 2,
   "id": "210e577e",
   "metadata": {},
   "outputs": [],
   "source": [
    "def bubble_sort(arr):\n",
    "    n = len(arr)\n",
    "    # Para cada elemento i do array\n",
    "    for i in range(n):\n",
    "        # Para cada elemento j do array\n",
    "        for j in range(0, n-i-1):\n",
    "            # Se elemento i for maior que o j\n",
    "            if arr[j] > arr[j+1]:\n",
    "                # Troque os elementos i e j\n",
    "                arr[j], arr[j+1] = arr[j+1], arr[j]\n",
    "    return arr"
   ]
  },
  {
   "cell_type": "code",
   "execution_count": 3,
   "id": "e3f76eb8",
   "metadata": {},
   "outputs": [],
   "source": [
    "lista = [6,7,8,3,10,19,4,1,0,61,30,16,17,82,29,34,43,21,11,39,56,67,12]"
   ]
  },
  {
   "cell_type": "code",
   "execution_count": 4,
   "id": "19cd1f00",
   "metadata": {},
   "outputs": [
    {
     "name": "stdout",
     "output_type": "stream",
     "text": [
      "[0, 1, 3, 4, 6, 7, 8, 10, 11, 12, 16, 17, 19, 21, 29, 30, 34, 39, 43, 56, 61, 67, 82]\n"
     ]
    }
   ],
   "source": [
    "print(bubble_sort(lista))"
   ]
  },
  {
   "cell_type": "code",
   "execution_count": 5,
   "id": "9d8780bf",
   "metadata": {},
   "outputs": [],
   "source": [
    "lista2 = [60,74,81,6,3,10,19,4,1,0,69,30,16,17,82,29,34,43,21,11,39,56,67,12,33,78,7,25,9]"
   ]
  },
  {
   "cell_type": "code",
   "execution_count": 6,
   "id": "14c8842d",
   "metadata": {},
   "outputs": [
    {
     "name": "stdout",
     "output_type": "stream",
     "text": [
      "[0, 1, 3, 4, 6, 7, 9, 10, 11, 12, 16, 17, 19, 21, 25, 29, 30, 33, 34, 39, 43, 56, 60, 67, 69, 74, 78, 81, 82]\n"
     ]
    }
   ],
   "source": [
    "print(bubble_sort(lista2))"
   ]
  },
  {
   "cell_type": "code",
   "execution_count": null,
   "id": "3c32adf1",
   "metadata": {},
   "outputs": [],
   "source": []
  }
 ],
 "metadata": {
  "kernelspec": {
   "display_name": "Python 3 (ipykernel)",
   "language": "python",
   "name": "python3"
  },
  "language_info": {
   "codemirror_mode": {
    "name": "ipython",
    "version": 3
   },
   "file_extension": ".py",
   "mimetype": "text/x-python",
   "name": "python",
   "nbconvert_exporter": "python",
   "pygments_lexer": "ipython3",
   "version": "3.9.13"
  }
 },
 "nbformat": 4,
 "nbformat_minor": 5
}
